{
 "cells": [
  {
   "cell_type": "code",
   "execution_count": 1,
   "id": "stuck-candy",
   "metadata": {},
   "outputs": [
    {
     "name": "stdin",
     "output_type": "stream",
     "text": [
      "Masukkan nama :  Kris\n",
      "Masukkan umur :  23\n",
      "Masukkan jurusan :  Informatika\n",
      "Masukkan ipk :  3.9\n"
     ]
    },
    {
     "name": "stdout",
     "output_type": "stream",
     "text": [
      "===  CETAK ===\n",
      "Nama : Kris\n",
      "Umur : 23\n",
      "Jur : Informatika\n",
      "Ipk : 3.9\n"
     ]
    }
   ],
   "source": [
    "nama = input(\"Masukkan nama : \") \n",
    "umur = input(\"Masukkan umur : \")\n",
    "jur  = input(\"Masukkan jurusan : \")\n",
    "ipk  = input(\"Masukkan ipk : \")\n",
    "\n",
    "print(\"===  CETAK ===\")\n",
    "print(\"Nama : \"+nama)\n",
    "print(\"Umur : \"+umur)\n",
    "print(\"Jur : \"+jur)\n",
    "print(\"Ipk : \"+ipk)\n"
   ]
  },
  {
   "cell_type": "code",
   "execution_count": 2,
   "id": "departmental-dietary",
   "metadata": {},
   "outputs": [
    {
     "name": "stdin",
     "output_type": "stream",
     "text": [
      "Nilai Pertama :  20\n",
      "Nilai Kedua : 30\n"
     ]
    },
    {
     "name": "stdout",
     "output_type": "stream",
     "text": [
      "20  Kali  30  =  50\n"
     ]
    }
   ],
   "source": [
    "a = int(input(\"Nilai Pertama : \"))\n",
    "b = int(input(\"Nilai Kedua :\"))\n",
    "c = a + b\n",
    "print(a, \" Kali \", b, \" = \", c)"
   ]
  },
  {
   "cell_type": "code",
   "execution_count": 5,
   "id": "according-nurse",
   "metadata": {},
   "outputs": [
    {
     "name": "stdout",
     "output_type": "stream",
     "text": [
      "PENENTUAN BILANGAN GENAP atau GANJIL\n",
      "====================================\n"
     ]
    },
    {
     "name": "stdin",
     "output_type": "stream",
     "text": [
      "Masukkan Bilangan : 20\n"
     ]
    },
    {
     "name": "stdout",
     "output_type": "stream",
     "text": [
      "Bilangan 20  adalah bilangan GENAP\n"
     ]
    }
   ],
   "source": [
    "print(\"PENENTUAN BILANGAN GENAP atau GANJIL\")\n",
    "print(\"====================================\")\n",
    "\n",
    "bil = int(input(\"Masukkan Bilangan :\"))\n",
    "if(bil % 2 == 0):\n",
    "    print(\"Bilangan\", bil, \" adalah bilangan GENAP\")\n",
    "else:\n",
    "    print(\"Bilangan\", bil, \" adalah bilangan GANJIL\")"
   ]
  },
  {
   "cell_type": "code",
   "execution_count": 10,
   "id": "everyday-mailman",
   "metadata": {},
   "outputs": [
    {
     "name": "stdout",
     "output_type": "stream",
     "text": [
      "PERHITUNGAN HURUF\n",
      "=================\n"
     ]
    },
    {
     "name": "stdin",
     "output_type": "stream",
     "text": [
      "Masukkan Sebuah Kalimat : KrisNanto\n"
     ]
    },
    {
     "name": "stdout",
     "output_type": "stream",
     "text": [
      "Huruf kapital ada  2\n",
      "Huruf kecil ada  7\n"
     ]
    }
   ],
   "source": [
    "print(\"PERHITUNGAN HURUF\")\n",
    "print(\"=================\")\n",
    "\n",
    "txt = input(\"Masukkan Sebuah Kalimat :\")\n",
    "\n",
    "sumKapital = 0\n",
    "sumKecil   = 0\n",
    "\n",
    "for i in range(0, len(txt)):\n",
    "    cr = txt[i]\n",
    "    if(cr.isupper()):\n",
    "        sumKapital = sumKapital+1\n",
    "    if(cr.islower()):\n",
    "        sumKecil = sumKecil+1\n",
    "        \n",
    "print(\"Huruf kapital ada \", sumKapital)\n",
    "print(\"Huruf kecil ada \", sumKecil)"
   ]
  },
  {
   "cell_type": "code",
   "execution_count": 29,
   "id": "inner-cricket",
   "metadata": {},
   "outputs": [
    {
     "name": "stdout",
     "output_type": "stream",
     "text": [
      "PERHITUNGAN LUAS\n",
      "================\n"
     ]
    },
    {
     "name": "stdin",
     "output_type": "stream",
     "text": [
      "Masukkan jari-jari : 1\n"
     ]
    },
    {
     "name": "stdout",
     "output_type": "stream",
     "text": [
      "Luas  6\n"
     ]
    }
   ],
   "source": [
    "import math\n",
    "\n",
    "print(\"PERHITUNGAN LUAS\")\n",
    "print(\"================\")\n",
    "\n",
    "jari = float(input(\"Masukkan jari-jari :\"))\n",
    "luas = 2 * pi * jari * jari\n",
    "print(\"Luas %2.f\" % (luas))"
   ]
  },
  {
   "cell_type": "code",
   "execution_count": 37,
   "id": "changed-title",
   "metadata": {},
   "outputs": [
    {
     "name": "stdout",
     "output_type": "stream",
     "text": [
      "PERHITUNGAN LUAS\n",
      "================\n"
     ]
    },
    {
     "name": "stdin",
     "output_type": "stream",
     "text": [
      "Masukkan jari-jari : 1\n"
     ]
    },
    {
     "name": "stdout",
     "output_type": "stream",
     "text": [
      "Luas 6.283185\n"
     ]
    }
   ],
   "source": [
    "import math\n",
    "\n",
    "print(\"PERHITUNGAN LUAS\")\n",
    "print(\"================\")\n",
    "\n",
    "jari = float(input(\"Masukkan jari-jari :\"))\n",
    "luas = 2 * pi * jari * jari\n",
    "print(\"Luas %2f\" % (luas))"
   ]
  },
  {
   "cell_type": "code",
   "execution_count": 38,
   "id": "determined-bacon",
   "metadata": {},
   "outputs": [
    {
     "name": "stdout",
     "output_type": "stream",
     "text": [
      "PERHITUNGAN LUAS\n",
      "================\n"
     ]
    },
    {
     "name": "stdin",
     "output_type": "stream",
     "text": [
      "Masukkan jari-jari : 1\n"
     ]
    },
    {
     "name": "stdout",
     "output_type": "stream",
     "text": [
      "Luas 6.283185\n"
     ]
    }
   ],
   "source": [
    "import math\n",
    "\n",
    "print(\"PERHITUNGAN LUAS\")\n",
    "print(\"================\")\n",
    "\n",
    "jari = float(input(\"Masukkan jari-jari :\"))\n",
    "luas = 2 * pi * jari * jari\n",
    "print(\"Luas %5f\" % (luas))"
   ]
  },
  {
   "cell_type": "code",
   "execution_count": 49,
   "id": "metropolitan-madonna",
   "metadata": {},
   "outputs": [
    {
     "name": "stdin",
     "output_type": "stream",
     "text": [
      "Masukkan nama kamu : Krisnanto\n"
     ]
    },
    {
     "name": "stdout",
     "output_type": "stream",
     "text": [
      "Nama saya Krisnanto\n"
     ]
    }
   ],
   "source": [
    "s = input(\"Masukkan nama kamu :\")\n",
    "print(\"Nama saya %s\" % (s))"
   ]
  },
  {
   "cell_type": "code",
   "execution_count": 70,
   "id": "suspended-following",
   "metadata": {},
   "outputs": [
    {
     "name": "stdout",
     "output_type": "stream",
     "text": [
      "Python version\n",
      "3.6.9 (default, Jan 26 2021, 15:33:00) \n",
      "[GCC 8.4.0]\n"
     ]
    }
   ],
   "source": [
    "import sys\n",
    "print(\"Python version\")\n",
    "print (sys.version)"
   ]
  },
  {
   "cell_type": "code",
   "execution_count": 83,
   "id": "traditional-portuguese",
   "metadata": {},
   "outputs": [
    {
     "name": "stdout",
     "output_type": "stream",
     "text": [
      "PERHITUNGAN RATA-RATA BILANGAN\n",
      "================\n",
      "Masukkan bilangan\n",
      "Ketik h lalu enter untuk menghitung rata-ratanya\n"
     ]
    },
    {
     "name": "stdin",
     "output_type": "stream",
     "text": [
      " 2\n"
     ]
    },
    {
     "ename": "NameError",
     "evalue": "name 'isnumeric' is not defined",
     "output_type": "error",
     "traceback": [
      "\u001b[0;31m---------------------------------------------------------------------------\u001b[0m",
      "\u001b[0;31mNameError\u001b[0m                                 Traceback (most recent call last)",
      "\u001b[0;32m<ipython-input-83-73728b69aa4f>\u001b[0m in \u001b[0;36m<module>\u001b[0;34m\u001b[0m\n\u001b[1;32m      9\u001b[0m \u001b[0;32mwhile\u001b[0m \u001b[0mstr\u001b[0m\u001b[0;34m(\u001b[0m\u001b[0mbil_check\u001b[0m\u001b[0;34m)\u001b[0m \u001b[0;34m!=\u001b[0m \u001b[0;34m\"h\"\u001b[0m\u001b[0;34m:\u001b[0m\u001b[0;34m\u001b[0m\u001b[0;34m\u001b[0m\u001b[0m\n\u001b[1;32m     10\u001b[0m     \u001b[0mbil\u001b[0m \u001b[0;34m=\u001b[0m \u001b[0minput\u001b[0m\u001b[0;34m(\u001b[0m\u001b[0;34m)\u001b[0m\u001b[0;34m\u001b[0m\u001b[0;34m\u001b[0m\u001b[0m\n\u001b[0;32m---> 11\u001b[0;31m     \u001b[0;32mif\u001b[0m\u001b[0;34m(\u001b[0m\u001b[0misnumeric\u001b[0m\u001b[0;34m(\u001b[0m\u001b[0mbil\u001b[0m\u001b[0;34m)\u001b[0m\u001b[0;34m)\u001b[0m\u001b[0;34m:\u001b[0m\u001b[0;34m\u001b[0m\u001b[0;34m\u001b[0m\u001b[0m\n\u001b[0m\u001b[1;32m     12\u001b[0m         \u001b[0mbil_rang\u001b[0m\u001b[0;34m.\u001b[0m\u001b[0mappend\u001b[0m\u001b[0;34m(\u001b[0m\u001b[0mfloat\u001b[0m\u001b[0;34m(\u001b[0m\u001b[0mbil\u001b[0m\u001b[0;34m)\u001b[0m\u001b[0;34m)\u001b[0m\u001b[0;34m\u001b[0m\u001b[0;34m\u001b[0m\u001b[0m\n\u001b[1;32m     13\u001b[0m         \u001b[0mbil_check\u001b[0m \u001b[0;34m=\u001b[0m \u001b[0mbil\u001b[0m\u001b[0;34m\u001b[0m\u001b[0;34m\u001b[0m\u001b[0m\n",
      "\u001b[0;31mNameError\u001b[0m: name 'isnumeric' is not defined"
     ]
    }
   ],
   "source": [
    "print(\"PERHITUNGAN RATA-RATA BILANGAN\")\n",
    "print(\"================\")\n",
    "\n",
    "print(\"Masukkan bilangan\")\n",
    "print(\"Ketik h lalu enter untuk menghitung rata-ratanya\")\n",
    "\n",
    "bil_rang = []\n",
    "bil_check = \"\"\n",
    "while str(bil_check) != \"h\":\n",
    "    bil = input()\n",
    "    if type(myVariable) == int or type(myVariable) == float:\n",
    "        bil_rang.append(float(bil))\n",
    "        bil_check = bil\n",
    "    \n",
    "if(str(bil_check) == \"h\"):\n",
    "    len_bil = len(bil_rang)\n",
    "    sum_bil = sum(bil_rang)\n",
    "    avg_bil  = sum_bil / len_bil\n",
    "    print(bil_rang)\n",
    "    print(\"Jumlah data %f\" % len_bil)\n",
    "    print(\"Total data %f\" % sum_bil)\n",
    "    print(\"Rata - rata bilangan yang anda inputkan adalah %.2f\" % avg_bil)"
   ]
  },
  {
   "cell_type": "code",
   "execution_count": null,
   "id": "stuck-boulder",
   "metadata": {},
   "outputs": [],
   "source": []
  }
 ],
 "metadata": {
  "kernelspec": {
   "display_name": "Python 3",
   "language": "python",
   "name": "python3"
  },
  "language_info": {
   "codemirror_mode": {
    "name": "ipython",
    "version": 3
   },
   "file_extension": ".py",
   "mimetype": "text/x-python",
   "name": "python",
   "nbconvert_exporter": "python",
   "pygments_lexer": "ipython3",
   "version": "3.6.9"
  }
 },
 "nbformat": 4,
 "nbformat_minor": 5
}
