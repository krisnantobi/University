{
 "cells": [
  {
   "cell_type": "code",
   "execution_count": 1,
   "id": "responsible-trunk",
   "metadata": {},
   "outputs": [
    {
     "name": "stdin",
     "output_type": "stream",
     "text": [
      "Masukkan nama :  Kris\n",
      "Masukkan umur :  23\n",
      "Masukkan jurusan :  Informatika\n",
      "Masukkan ipk :  3.9\n"
     ]
    },
    {
     "name": "stdout",
     "output_type": "stream",
     "text": [
      "===  CETAK ===\n",
      "Nama : Kris\n",
      "Umur : 23\n",
      "Jur : Informatika\n",
      "Ipk : 3.9\n"
     ]
    }
   ],
   "source": [
    "nama = input(\"Masukkan nama : \") \n",
    "umur = input(\"Masukkan umur : \")\n",
    "jur  = input(\"Masukkan jurusan : \")\n",
    "ipk  = input(\"Masukkan ipk : \")\n",
    "\n",
    "print(\"===  CETAK ===\")\n",
    "print(\"Nama : \"+nama)\n",
    "print(\"Umur : \"+umur)\n",
    "print(\"Jur : \"+jur)\n",
    "print(\"Ipk : \"+ipk)\n"
   ]
  },
  {
   "cell_type": "code",
   "execution_count": 2,
   "id": "wicked-upset",
   "metadata": {},
   "outputs": [
    {
     "name": "stdin",
     "output_type": "stream",
     "text": [
      "Nilai Pertama :  20\n",
      "Nilai Kedua : 30\n"
     ]
    },
    {
     "name": "stdout",
     "output_type": "stream",
     "text": [
      "20  Kali  30  =  50\n"
     ]
    }
   ],
   "source": [
    "a = int(input(\"Nilai Pertama : \"))\n",
    "b = int(input(\"Nilai Kedua :\"))\n",
    "c = a + b\n",
    "print(a, \" Kali \", b, \" = \", c)"
   ]
  },
  {
   "cell_type": "code",
   "execution_count": 5,
   "id": "coated-airfare",
   "metadata": {},
   "outputs": [
    {
     "name": "stdout",
     "output_type": "stream",
     "text": [
      "PENENTUAN BILANGAN GENAP atau GANJIL\n",
      "====================================\n"
     ]
    },
    {
     "name": "stdin",
     "output_type": "stream",
     "text": [
      "Masukkan Bilangan : 20\n"
     ]
    },
    {
     "name": "stdout",
     "output_type": "stream",
     "text": [
      "Bilangan 20  adalah bilangan GENAP\n"
     ]
    }
   ],
   "source": [
    "print(\"PENENTUAN BILANGAN GENAP atau GANJIL\")\n",
    "print(\"====================================\")\n",
    "\n",
    "bil = int(input(\"Masukkan Bilangan :\"))\n",
    "if(bil % 2 == 0):\n",
    "    print(\"Bilangan\", bil, \" adalah bilangan GENAP\")\n",
    "else:\n",
    "    print(\"Bilangan\", bil, \" adalah bilangan GANJIL\")"
   ]
  },
  {
   "cell_type": "code",
   "execution_count": 10,
   "id": "elect-example",
   "metadata": {},
   "outputs": [
    {
     "name": "stdout",
     "output_type": "stream",
     "text": [
      "PERHITUNGAN HURUF\n",
      "=================\n"
     ]
    },
    {
     "name": "stdin",
     "output_type": "stream",
     "text": [
      "Masukkan Sebuah Kalimat : KrisNanto\n"
     ]
    },
    {
     "name": "stdout",
     "output_type": "stream",
     "text": [
      "Huruf kapital ada  2\n",
      "Huruf kecil ada  7\n"
     ]
    }
   ],
   "source": [
    "print(\"PERHITUNGAN HURUF\")\n",
    "print(\"=================\")\n",
    "\n",
    "txt = input(\"Masukkan Sebuah Kalimat :\")\n",
    "\n",
    "sumKapital = 0\n",
    "sumKecil   = 0\n",
    "\n",
    "for i in range(0, len(txt)):\n",
    "    cr = txt[i]\n",
    "    if(cr.isupper()):\n",
    "        sumKapital = sumKapital+1\n",
    "    if(cr.islower()):\n",
    "        sumKecil = sumKecil+1\n",
    "        \n",
    "print(\"Huruf kapital ada \", sumKapital)\n",
    "print(\"Huruf kecil ada \", sumKecil)"
   ]
  },
  {
   "cell_type": "code",
   "execution_count": 29,
   "id": "several-rating",
   "metadata": {},
   "outputs": [
    {
     "name": "stdout",
     "output_type": "stream",
     "text": [
      "PERHITUNGAN LUAS\n",
      "================\n"
     ]
    },
    {
     "name": "stdin",
     "output_type": "stream",
     "text": [
      "Masukkan jari-jari : 1\n"
     ]
    },
    {
     "name": "stdout",
     "output_type": "stream",
     "text": [
      "Luas  6\n"
     ]
    }
   ],
   "source": [
    "import math\n",
    "\n",
    "print(\"PERHITUNGAN LUAS\")\n",
    "print(\"================\")\n",
    "\n",
    "jari = float(input(\"Masukkan jari-jari :\"))\n",
    "luas = 2 * pi * jari * jari\n",
    "print(\"Luas %2.f\" % (luas))"
   ]
  },
  {
   "cell_type": "code",
   "execution_count": 37,
   "id": "collected-format",
   "metadata": {},
   "outputs": [
    {
     "name": "stdout",
     "output_type": "stream",
     "text": [
      "PERHITUNGAN LUAS\n",
      "================\n"
     ]
    },
    {
     "name": "stdin",
     "output_type": "stream",
     "text": [
      "Masukkan jari-jari : 1\n"
     ]
    },
    {
     "name": "stdout",
     "output_type": "stream",
     "text": [
      "Luas 6.283185\n"
     ]
    }
   ],
   "source": [
    "import math\n",
    "\n",
    "print(\"PERHITUNGAN LUAS\")\n",
    "print(\"================\")\n",
    "\n",
    "jari = float(input(\"Masukkan jari-jari :\"))\n",
    "luas = 2 * pi * jari * jari\n",
    "print(\"Luas %2f\" % (luas))"
   ]
  },
  {
   "cell_type": "code",
   "execution_count": 38,
   "id": "controlled-woman",
   "metadata": {},
   "outputs": [
    {
     "name": "stdout",
     "output_type": "stream",
     "text": [
      "PERHITUNGAN LUAS\n",
      "================\n"
     ]
    },
    {
     "name": "stdin",
     "output_type": "stream",
     "text": [
      "Masukkan jari-jari : 1\n"
     ]
    },
    {
     "name": "stdout",
     "output_type": "stream",
     "text": [
      "Luas 6.283185\n"
     ]
    }
   ],
   "source": [
    "import math\n",
    "\n",
    "print(\"PERHITUNGAN LUAS\")\n",
    "print(\"================\")\n",
    "\n",
    "jari = float(input(\"Masukkan jari-jari :\"))\n",
    "luas = 2 * pi * jari * jari\n",
    "print(\"Luas %5f\" % (luas))"
   ]
  },
  {
   "cell_type": "code",
   "execution_count": 49,
   "id": "aerial-generic",
   "metadata": {},
   "outputs": [
    {
     "name": "stdin",
     "output_type": "stream",
     "text": [
      "Masukkan nama kamu : Krisnanto\n"
     ]
    },
    {
     "name": "stdout",
     "output_type": "stream",
     "text": [
      "Nama saya Krisnanto\n"
     ]
    }
   ],
   "source": [
    "s = input(\"Masukkan nama kamu :\")\n",
    "print(\"Nama saya %s\" % (s))"
   ]
  },
  {
   "cell_type": "code",
   "execution_count": 70,
   "id": "still-publisher",
   "metadata": {},
   "outputs": [
    {
     "name": "stdout",
     "output_type": "stream",
     "text": [
      "Python version\n",
      "3.6.9 (default, Jan 26 2021, 15:33:00) \n",
      "[GCC 8.4.0]\n"
     ]
    }
   ],
   "source": [
    "import sys\n",
    "print(\"Python version\")\n",
    "print (sys.version)"
   ]
  },
  {
   "cell_type": "code",
   "execution_count": 98,
   "id": "detailed-cement",
   "metadata": {},
   "outputs": [
    {
     "name": "stdout",
     "output_type": "stream",
     "text": [
      "PERHITUNGAN RATA-RATA BILANGAN\n",
      "================\n",
      "Berapa jumlah bilangan yang akan di hitung ?\n"
     ]
    },
    {
     "name": "stdin",
     "output_type": "stream",
     "text": [
      " 4\n"
     ]
    },
    {
     "name": "stdout",
     "output_type": "stream",
     "text": [
      "Masukkan bilangan secara berurutan\n"
     ]
    },
    {
     "name": "stdin",
     "output_type": "stream",
     "text": [
      " 3.5\n",
      " 0.2\n",
      " 1\n",
      " 4\n"
     ]
    },
    {
     "name": "stdout",
     "output_type": "stream",
     "text": [
      "[3.5, 0.2, 1.0, 4.0]\n",
      "Jumlah data 4.00\n",
      "Total data 8.70\n",
      "Rata - rata bilangan yang anda inputkan adalah 2.17\n"
     ]
    }
   ],
   "source": [
    "print(\"PERHITUNGAN RATA-RATA BILANGAN\")\n",
    "print(\"================\")\n",
    "\n",
    "print(\"Berapa jumlah bilangan yang akan di hitung ?\")\n",
    "ii = int(input())\n",
    "print(\"Masukkan bilangan secara berurutan\")\n",
    "\n",
    "bil_rang = []\n",
    "bil_check = \"\"\n",
    "for i in range(0, ii):\n",
    "    bil = float(input())\n",
    "    bil_rang.append(bil)\n",
    "    bil_check = bil\n",
    "    \n",
    "# if(str(bil_check) == \"h\"):\n",
    "len_bil = len(bil_rang)\n",
    "sum_bil = sum(bil_rang)\n",
    "avg_bil  = sum_bil / len_bil\n",
    "print(bil_rang)\n",
    "print(\"Jumlah data %.2f\" % len_bil)\n",
    "print(\"Total data %.2f\" % sum_bil)\n",
    "print(\"Rata - rata bilangan yang anda inputkan adalah %.2f\" % avg_bil)"
   ]
  },
  {
   "cell_type": "code",
   "execution_count": 101,
   "id": "rational-progressive",
   "metadata": {},
   "outputs": [
    {
     "name": "stdout",
     "output_type": "stream",
     "text": [
      "Menghitung hasil dari fungsi f(x) = 2x pangkat 3 + 2x + 15/x, jika x adalah suatu nilai pecahan yang diisikan sembarang\n"
     ]
    },
    {
     "name": "stdin",
     "output_type": "stream",
     "text": [
      "Masukkan nilai x : 2.3\n"
     ]
    },
    {
     "name": "stdout",
     "output_type": "stream",
     "text": [
      "Hasil nya adalah 35.46\n"
     ]
    }
   ],
   "source": [
    "print(\"Menghitung hasil dari fungsi f(x) = 2x pangkat 3 + 2x + 15/x, jika x adalah suatu nilai pecahan yang diisikan sembarang\")\n",
    "x = float(input(\"Masukkan nilai x :\"))\n",
    "res = (2*x**3) + (2*x) + (15/x)\n",
    "print(\"Hasil nya adalah %.2f\" %res)"
   ]
  },
  {
   "cell_type": "code",
   "execution_count": null,
   "id": "spoken-scheduling",
   "metadata": {},
   "outputs": [],
   "source": []
  }
 ],
 "metadata": {
  "kernelspec": {
   "display_name": "Python 3",
   "language": "python",
   "name": "python3"
  },
  "language_info": {
   "codemirror_mode": {
    "name": "ipython",
    "version": 3
   },
   "file_extension": ".py",
   "mimetype": "text/x-python",
   "name": "python",
   "nbconvert_exporter": "python",
   "pygments_lexer": "ipython3",
   "version": "3.6.9"
  }
 },
 "nbformat": 4,
 "nbformat_minor": 5
}
